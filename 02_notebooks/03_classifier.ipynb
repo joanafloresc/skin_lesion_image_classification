{
 "cells": [
  {
   "cell_type": "markdown",
   "id": "1b45fdb3",
   "metadata": {},
   "source": [
    "# App"
   ]
  },
  {
   "cell_type": "code",
   "execution_count": null,
   "id": "4f50730e",
   "metadata": {},
   "outputs": [],
   "source": [
    "%%writefile -a classifier.py\n",
    "\n",
    "import matplotlib.pyplot as plt\n",
    "import datapane as dp\n",
    "import matplotlib.pyplot as plt\n",
    "import numpy as np\n",
    "import PIL\n",
    "import tensorflow as tf\n",
    "\n",
    "from tensorflow import keras\n",
    "from tensorflow.keras import layers\n",
    "from tensorflow.keras.models import Sequential\n",
    "\n",
    "def classifier(data_dir):\n",
    "\n",
    "    image = tf.keras.utils.image_dataset_from_directory(\n",
    "      data_dir,\n",
    "      validation_split=None,\n",
    "      subset=None,\n",
    "      seed=None,\n",
    "      image_size=(250, 250),\n",
    "      batch_size=32)\n",
    "\n",
    "    predictions = model.predict(image)\n",
    "    score = tf.nn.softmax(predictions[0])\n",
    "    \n",
    "    img=plt.imread(data_dir)\n",
    "    plt.imshow(img)\n",
    "    \n",
    "    return print(\n",
    "        \"This image most likely belongs to {} with a {:.2f} percent confidence.\"\n",
    "        .format(class_names[np.argmax(score)], 100 * np.max(score))\n",
    "    )"
   ]
  }
 ],
 "metadata": {
  "kernelspec": {
   "display_name": "Python 3 (ipykernel)",
   "language": "python",
   "name": "python3"
  },
  "language_info": {
   "codemirror_mode": {
    "name": "ipython",
    "version": 3
   },
   "file_extension": ".py",
   "mimetype": "text/x-python",
   "name": "python",
   "nbconvert_exporter": "python",
   "pygments_lexer": "ipython3",
   "version": "3.9.13"
  }
 },
 "nbformat": 4,
 "nbformat_minor": 5
}
